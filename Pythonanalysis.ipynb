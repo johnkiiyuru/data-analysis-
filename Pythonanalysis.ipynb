{
  "nbformat": 4,
  "nbformat_minor": 0,
  "metadata": {
    "colab": {
      "name": "Coursehero.ipynb",
      "provenance": []
    },
    "kernelspec": {
      "name": "python3",
      "display_name": "Python 3"
    },
    "language_info": {
      "name": "python"
    }
  },
  "cells": [
    {
      "cell_type": "markdown",
      "source": [
        "## a) **Matplotlib** is an amazing visualization library in Python for 2D plots of arrays. Matplotlib is a multi-platform data visualization library built on NumPy arrays and designed to work with the broader SciPy stack"
      ],
      "metadata": {
        "id": "lJ--vRJ3HZPf"
      }
    },
    {
      "cell_type": "code",
      "execution_count": null,
      "metadata": {
        "id": "RS9_gzykG8YE"
      },
      "outputs": [],
      "source": [
        "import matplotlib.pyplot as plt"
      ]
    },
    {
      "cell_type": "code",
      "source": [
        "# Data to plot\n",
        "labels = 'Python', 'C++', 'Ruby', 'Java'\n",
        "sizes = [215, 130, 245, 210]\n",
        "colors = ['gold', 'yellowgreen', 'lightcoral', 'lightskyblue']\n",
        "explode = (0.1, 0, 0, 0)  # explode 1st slice"
      ],
      "metadata": {
        "id": "KGgtbCjaHAEG"
      },
      "execution_count": null,
      "outputs": []
    },
    {
      "cell_type": "code",
      "source": [
        "# Plot\n",
        "plt.pie(sizes, explode=explode, labels=labels, colors=colors,\n",
        "autopct='%1.1f%%', shadow=True, startangle=140)\n",
        "\n",
        "plt.axis('equal')\n",
        "plt.show()"
      ],
      "metadata": {
        "colab": {
          "base_uri": "https://localhost:8080/",
          "height": 256
        },
        "id": "Pl1Dq67fHQyq",
        "outputId": "ba0d2e48-bbde-44de-a580-8f6bd79ed139"
      },
      "execution_count": null,
      "outputs": [
        {
          "output_type": "display_data",
          "data": {
            "text/plain": [
              "<Figure size 432x288 with 1 Axes>"
            ],
            "image/png": "[encoded data removed]"
          },
          "metadata": {}
        }
      ]
    },
    {
      "cell_type": "markdown",
      "source": [
        "## b) **yfinance** is not affiliated, endorsed, or vetted by Yahoo, Inc. It's an open-source tool that uses Yahoo's publicly available APIs, and is intended for research and educational purposes."
      ],
      "metadata": {
        "id": "Tfs2FiO6H2sA"
      }
    },
    {
      "cell_type": "markdown",
      "source": [
        "API stands for “Application Programming Interface.” An API is a software intermediary that allows two applications to talk to each other. In other words, an API is the messenger that delivers your request to the provider that you're requesting it from and then delivers the response back to you."
      ],
      "metadata": {
        "id": "8RndUf5aICM2"
      }
    },
    {
      "cell_type": "markdown",
      "source": [
        "Installing yfinance"
      ],
      "metadata": {
        "id": "9G8ytphaInMn"
      }
    },
    {
      "cell_type": "code",
      "source": [
        "!pip install yfinance"
      ],
      "metadata": {
        "colab": {
          "base_uri": "https://localhost:8080/"
        },
        "id": "kCFg5_ZXHSjN",
        "outputId": "28df8184-cf58-47a9-cbba-3f22664d0ce0"
      },
      "execution_count": null,
      "outputs": [
        {
          "output_type": "stream",
          "name": "stdout",
          "text": [
            "Looking in indexes: https://pypi.org/simple, https://us-python.pkg.dev/colab-wheels/public/simple/\n",
            "Collecting yfinance\n",
            "  Downloading yfinance-0.1.72-py2.py3-none-any.whl (27 kB)\n",
            "Collecting lxml>=4.5.1\n",
            "  Downloading lxml-4.9.0-cp37-cp37m-manylinux_2_17_x86_64.manylinux2014_x86_64.manylinux_2_24_x86_64.whl (6.4 MB)\n",
            "\u001b[K     |████████████████████████████████| 6.4 MB 7.3 MB/s \n",
            "\u001b[?25hRequirement already satisfied: pandas>=0.24.0 in /usr/local/lib/python3.7/dist-packages (from yfinance) (1.3.5)\n",
            "Collecting requests>=2.26\n",
            "  Downloading requests-2.28.1-py3-none-any.whl (62 kB)\n",
            "\u001b[K     |████████████████████████████████| 62 kB 1.2 MB/s \n",
            "\u001b[?25hRequirement already satisfied: numpy>=1.15 in /usr/local/lib/python3.7/dist-packages (from yfinance) (1.21.6)\n",
            "Requirement already satisfied: multitasking>=0.0.7 in /usr/local/lib/python3.7/dist-packages (from yfinance) (0.0.10)\n",
            "Requirement already satisfied: python-dateutil>=2.7.3 in /usr/local/lib/python3.7/dist-packages (from pandas>=0.24.0->yfinance) (2.8.2)\n",
            "Requirement already satisfied: pytz>=2017.3 in /usr/local/lib/python3.7/dist-packages (from pandas>=0.24.0->yfinance) (2022.1)\n",
            "Requirement already satisfied: six>=1.5 in /usr/local/lib/python3.7/dist-packages (from python-dateutil>=2.7.3->pandas>=0.24.0->yfinance) (1.15.0)\n",
            "Requirement already satisfied: urllib3<1.27,>=1.21.1 in /usr/local/lib/python3.7/dist-packages (from requests>=2.26->yfinance) (1.24.3)\n",
            "Requirement already satisfied: charset-normalizer<3,>=2 in /usr/local/lib/python3.7/dist-packages (from requests>=2.26->yfinance) (2.0.12)\n",
            "Requirement already satisfied: certifi>=2017.4.17 in /usr/local/lib/python3.7/dist-packages (from requests>=2.26->yfinance) (2022.6.15)\n",
            "Requirement already satisfied: idna<4,>=2.5 in /usr/local/lib/python3.7/dist-packages (from requests>=2.26->yfinance) (2.10)\n",
            "Installing collected packages: requests, lxml, yfinance\n",
            "  Attempting uninstall: requests\n",
            "    Found existing installation: requests 2.23.0\n",
            "    Uninstalling requests-2.23.0:\n",
            "      Successfully uninstalled requests-2.23.0\n",
            "  Attempting uninstall: lxml\n",
            "    Found existing installation: lxml 4.2.6\n",
            "    Uninstalling lxml-4.2.6:\n",
            "      Successfully uninstalled lxml-4.2.6\n",
            "\u001b[31mERROR: pip's dependency resolver does not currently take into account all the packages that are installed. This behaviour is the source of the following dependency conflicts.\n",
            "google-colab 1.0.0 requires requests~=2.23.0, but you have requests 2.28.1 which is incompatible.\n",
            "datascience 0.10.6 requires folium==0.2.1, but you have folium 0.8.3 which is incompatible.\u001b[0m\n",
            "Successfully installed lxml-4.9.0 requests-2.28.1 yfinance-0.1.72\n"
          ]
        }
      ]
    },
    {
      "cell_type": "code",
      "source": [
        "import yfinance as yf"
      ],
      "metadata": {
        "id": "ACJCQH98IXZk"
      },
      "execution_count": null,
      "outputs": []
    },
    {
      "cell_type": "code",
      "source": [
        "stock_list = ['0005.HK', '0006.HK', '0066.HK', '0700.HK', '2800.HK']\n",
        "print('stock_list:', stock_list)\n",
        "data = yf.download(stock_list, start=\"2015-01-01\", end=\"2020-02-21\")\n",
        "print('data fields downloaded:', set(data.columns.get_level_values(0)))\n",
        "data.head()"
      ],
      "metadata": {
        "colab": {
          "base_uri": "https://localhost:8080/",
          "height": 286
        },
        "id": "l_LiRNozIw3n",
        "outputId": "16fa9dca-9c3d-49c5-c6fb-6c66fa3608e9"
      },
      "execution_count": null,
      "outputs": [
        {
          "output_type": "stream",
          "name": "stdout",
          "text": [
            "stock_list: ['0005.HK', '0006.HK', '0066.HK', '0700.HK', '2800.HK']\n",
            "[*********************100%***********************]  5 of 5 completed\n",
            "data fields downloaded: {'Open', 'Low', 'Volume', 'Close', 'Adj Close', 'High'}\n"
          ]
        },
        {
          "output_type": "execute_result",
          "data": {
            "text/plain": [
              "            Adj Close                                                   Close  \\\n",
              "              0005.HK    0006.HK    0066.HK     0700.HK    2800.HK    0005.HK   \n",
              "Date                                                                            \n",
              "2015-01-02  50.758221  40.380539  23.015841  110.276031  24.049999  74.000000   \n",
              "2015-01-05  50.003712  39.703465  22.943689  110.960373  23.950001  72.900002   \n",
              "2015-01-06  49.214897  39.568054  22.727242  117.314934  23.650000  71.750000   \n",
              "2015-01-07  48.700462  40.163872  22.871538  121.616486  23.900000  71.000000   \n",
              "2015-01-08  48.837643  40.868027  23.268368  124.451599  24.100000  71.199997   \n",
              "\n",
              "                                                         ...       Open  \\\n",
              "              0006.HK    0066.HK     0700.HK    2800.HK  ...    0005.HK   \n",
              "Date                                                     ...              \n",
              "2015-01-02  74.550003  31.900000  112.800003  24.049999  ...  73.599998   \n",
              "2015-01-05  73.300003  31.799999  113.500000  23.950001  ...  73.150002   \n",
              "2015-01-06  73.050003  31.500000  120.000000  23.650000  ...  71.800003   \n",
              "2015-01-07  74.150002  31.700001  124.400002  23.900000  ...  70.500000   \n",
              "2015-01-08  75.449997  32.250000  127.300003  24.100000  ...  71.050003   \n",
              "\n",
              "                                                           Volume           \\\n",
              "              0006.HK    0066.HK     0700.HK    2800.HK   0005.HK  0006.HK   \n",
              "Date                                                                         \n",
              "2015-01-02  74.849998  31.799999  113.599998  23.900000   8614012   998065   \n",
              "2015-01-05  73.250000  31.650000  113.500000  23.950001  21629040  1925637   \n",
              "2015-01-06  74.150002  31.450001  114.000000  23.700001  35110417  3477505   \n",
              "2015-01-07  72.699997  31.250000  123.500000  23.600000  35378291  2477304   \n",
              "2015-01-08  75.099998  31.950001  127.500000  23.900000  21320949  3044459   \n",
              "\n",
              "                                         \n",
              "            0066.HK   0700.HK   2800.HK  \n",
              "Date                                     \n",
              "2015-01-02  1231870  10862542  21618598  \n",
              "2015-01-05  2120890  21808993  71563266  \n",
              "2015-01-06  3531739  43678255  78830872  \n",
              "2015-01-07  3066795  40863410  63966468  \n",
              "2015-01-08  7878824  35638986  39175442  \n",
              "\n",
              "[5 rows x 30 columns]"
            ],
            "text/html": [
              "\n",
              "  <div id=\"df-861c24a1-42cb-4a44-94c1-627732fdcee4\">\n",
              "    <div class=\"colab-df-container\">\n",
              "      <div>\n",
              "<style scoped>\n",
              "    .dataframe tbody tr th:only-of-type {\n",
              "        vertical-align: middle;\n",
              "    }\n",
              "\n",
              "    .dataframe tbody tr th {\n",
              "        vertical-align: top;\n",
              "    }\n",
              "\n",
              "    .dataframe thead tr th {\n",
              "        text-align: left;\n",
              "    }\n",
              "\n",
              "    .dataframe thead tr:last-of-type th {\n",
              "        text-align: right;\n",
              "    }\n",
              "</style>\n",
              "<table border=\"1\" class=\"dataframe\">\n",
              "  <thead>\n",
              "    <tr>\n",
              "      <th></th>\n",
              "      <th colspan=\"5\" halign=\"left\">Adj Close</th>\n",
              "      <th colspan=\"5\" halign=\"left\">Close</th>\n",
              "      <th>...</th>\n",
              "      <th colspan=\"5\" halign=\"left\">Open</th>\n",
              "      <th colspan=\"5\" halign=\"left\">Volume</th>\n",
              "    </tr>\n",
              "    <tr>\n",
              "      <th></th>\n",
              "      <th>0005.HK</th>\n",
              "      <th>0006.HK</th>\n",
              "      <th>0066.HK</th>\n",
              "      <th>0700.HK</th>\n",
              "      <th>2800.HK</th>\n",
              "      <th>0005.HK</th>\n",
              "      <th>0006.HK</th>\n",
              "      <th>0066.HK</th>\n",
              "      <th>0700.HK</th>\n",
              "      <th>2800.HK</th>\n",
              "      <th>...</th>\n",
              "      <th>0005.HK</th>\n",
              "      <th>0006.HK</th>\n",
              "      <th>0066.HK</th>\n",
              "      <th>0700.HK</th>\n",
              "      <th>2800.HK</th>\n",
              "      <th>0005.HK</th>\n",
              "      <th>0006.HK</th>\n",
              "      <th>0066.HK</th>\n",
              "      <th>0700.HK</th>\n",
              "      <th>2800.HK</th>\n",
              "    </tr>\n",
              "    <tr>\n",
              "      <th>Date</th>\n",
              "      <th></th>\n",
              "      <th></th>\n",
              "      <th></th>\n",
              "      <th></th>\n",
              "      <th></th>\n",
              "      <th></th>\n",
              "      <th></th>\n",
              "      <th></th>\n",
              "      <th></th>\n",
              "      <th></th>\n",
              "      <th></th>\n",
              "      <th></th>\n",
              "      <th></th>\n",
              "      <th></th>\n",
              "      <th></th>\n",
              "      <th></th>\n",
              "      <th></th>\n",
              "      <th></th>\n",
              "      <th></th>\n",
              "      <th></th>\n",
              "      <th></th>\n",
              "    </tr>\n",
              "  </thead>\n",
              "  <tbody>\n",
              "    <tr>\n",
              "      <th>2015-01-02</th>\n",
              "      <td>50.758221</td>\n",
              "      <td>40.380539</td>\n",
              "      <td>23.015841</td>\n",
              "      <td>110.276031</td>\n",
              "      <td>24.049999</td>\n",
              "      <td>74.000000</td>\n",
              "      <td>74.550003</td>\n",
              "      <td>31.900000</td>\n",
              "      <td>112.800003</td>\n",
              "      <td>24.049999</td>\n",
              "      <td>...</td>\n",
              "      <td>73.599998</td>\n",
              "      <td>74.849998</td>\n",
              "      <td>31.799999</td>\n",
              "      <td>113.599998</td>\n",
              "      <td>23.900000</td>\n",
              "      <td>8614012</td>\n",
              "      <td>998065</td>\n",
              "      <td>1231870</td>\n",
              "      <td>10862542</td>\n",
              "      <td>21618598</td>\n",
              "    </tr>\n",
              "    <tr>\n",
              "      <th>2015-01-05</th>\n",
              "      <td>50.003712</td>\n",
              "      <td>39.703465</td>\n",
              "      <td>22.943689</td>\n",
              "      <td>110.960373</td>\n",
              "      <td>23.950001</td>\n",
              "      <td>72.900002</td>\n",
              "      <td>73.300003</td>\n",
              "      <td>31.799999</td>\n",
              "      <td>113.500000</td>\n",
              "      <td>23.950001</td>\n",
              "      <td>...</td>\n",
              "      <td>73.150002</td>\n",
              "      <td>73.250000</td>\n",
              "      <td>31.650000</td>\n",
              "      <td>113.500000</td>\n",
              "      <td>23.950001</td>\n",
              "      <td>21629040</td>\n",
              "      <td>1925637</td>\n",
              "      <td>2120890</td>\n",
              "      <td>21808993</td>\n",
              "      <td>71563266</td>\n",
              "    </tr>\n",
              "    <tr>\n",
              "      <th>2015-01-06</th>\n",
              "      <td>49.214897</td>\n",
              "      <td>39.568054</td>\n",
              "      <td>22.727242</td>\n",
              "      <td>117.314934</td>\n",
              "      <td>23.650000</td>\n",
              "      <td>71.750000</td>\n",
              "      <td>73.050003</td>\n",
              "      <td>31.500000</td>\n",
              "      <td>120.000000</td>\n",
              "      <td>23.650000</td>\n",
              "      <td>...</td>\n",
              "      <td>71.800003</td>\n",
              "      <td>74.150002</td>\n",
              "      <td>31.450001</td>\n",
              "      <td>114.000000</td>\n",
              "      <td>23.700001</td>\n",
              "      <td>35110417</td>\n",
              "      <td>3477505</td>\n",
              "      <td>3531739</td>\n",
              "      <td>43678255</td>\n",
              "      <td>78830872</td>\n",
              "    </tr>\n",
              "    <tr>\n",
              "      <th>2015-01-07</th>\n",
              "      <td>48.700462</td>\n",
              "      <td>40.163872</td>\n",
              "      <td>22.871538</td>\n",
              "      <td>121.616486</td>\n",
              "      <td>23.900000</td>\n",
              "      <td>71.000000</td>\n",
              "      <td>74.150002</td>\n",
              "      <td>31.700001</td>\n",
              "      <td>124.400002</td>\n",
              "      <td>23.900000</td>\n",
              "      <td>...</td>\n",
              "      <td>70.500000</td>\n",
              "      <td>72.699997</td>\n",
              "      <td>31.250000</td>\n",
              "      <td>123.500000</td>\n",
              "      <td>23.600000</td>\n",
              "      <td>35378291</td>\n",
              "      <td>2477304</td>\n",
              "      <td>3066795</td>\n",
              "      <td>40863410</td>\n",
              "      <td>63966468</td>\n",
              "    </tr>\n",
              "    <tr>\n",
              "      <th>2015-01-08</th>\n",
              "      <td>48.837643</td>\n",
              "      <td>40.868027</td>\n",
              "      <td>23.268368</td>\n",
              "      <td>124.451599</td>\n",
              "      <td>24.100000</td>\n",
              "      <td>71.199997</td>\n",
              "      <td>75.449997</td>\n",
              "      <td>32.250000</td>\n",
              "      <td>127.300003</td>\n",
              "      <td>24.100000</td>\n",
              "      <td>...</td>\n",
              "      <td>71.050003</td>\n",
              "      <td>75.099998</td>\n",
              "      <td>31.950001</td>\n",
              "      <td>127.500000</td>\n",
              "      <td>23.900000</td>\n",
              "      <td>21320949</td>\n",
              "      <td>3044459</td>\n",
              "      <td>7878824</td>\n",
              "      <td>35638986</td>\n",
              "      <td>39175442</td>\n",
              "    </tr>\n",
              "  </tbody>\n",
              "</table>\n",
              "<p>5 rows × 30 columns</p>\n",
              "</div>\n",
              "      <button class=\"colab-df-convert\" onclick=\"convertToInteractive('df-861c24a1-42cb-4a44-94c1-627732fdcee4')\"\n",
              "              title=\"Convert this dataframe to an interactive table.\"\n",
              "              style=\"display:none;\">\n",
              "        \n",
              "  <svg xmlns=\"http://www.w3.org/2000/svg\" height=\"24px\"viewBox=\"0 0 24 24\"\n",
              "       width=\"24px\">\n",
              "    <path d=\"M0 0h24v24H0V0z\" fill=\"none\"/>\n",
              "    <path d=\"M18.56 5.44l.94 2.06.94-2.06 2.06-.94-2.06-.94-.94-2.06-.94 2.06-2.06.94zm-11 1L8.5 8.5l.94-2.06 2.06-.94-2.06-.94L8.5 2.5l-.94 2.06-2.06.94zm10 10l.94 2.06.94-2.06 2.06-.94-2.06-.94-.94-2.06-.94 2.06-2.06.94z\"/><path d=\"M17.41 7.96l-1.37-1.37c-.4-.4-.92-.59-1.43-.59-.52 0-1.04.2-1.43.59L10.3 9.45l-7.72 7.72c-.78.78-.78 2.05 0 2.83L4 21.41c.39.39.9.59 1.41.59.51 0 1.02-.2 1.41-.59l7.78-7.78 2.81-2.81c.8-.78.8-2.07 0-2.86zM5.41 20L4 18.59l7.72-7.72 1.47 1.35L5.41 20z\"/>\n",
              "  </svg>\n",
              "      </button>\n",
              "      \n",
              "  <style>\n",
              "    .colab-df-container {\n",
              "      display:flex;\n",
              "      flex-wrap:wrap;\n",
              "      gap: 12px;\n",
              "    }\n",
              "\n",
              "    .colab-df-convert {\n",
              "      background-color: #E8F0FE;\n",
              "      border: none;\n",
              "      border-radius: 50%;\n",
              "      cursor: pointer;\n",
              "      display: none;\n",
              "      fill: #1967D2;\n",
              "      height: 32px;\n",
              "      padding: 0 0 0 0;\n",
              "      width: 32px;\n",
              "    }\n",
              "\n",
              "    .colab-df-convert:hover {\n",
              "      background-color: #E2EBFA;\n",
              "      box-shadow: 0px 1px 2px rgba(60, 64, 67, 0.3), 0px 1px 3px 1px rgba(60, 64, 67, 0.15);\n",
              "      fill: #174EA6;\n",
              "    }\n",
              "\n",
              "    [theme=dark] .colab-df-convert {\n",
              "      background-color: #3B4455;\n",
              "      fill: #D2E3FC;\n",
              "    }\n",
              "\n",
              "    [theme=dark] .colab-df-convert:hover {\n",
              "      background-color: #434B5C;\n",
              "      box-shadow: 0px 1px 3px 1px rgba(0, 0, 0, 0.15);\n",
              "      filter: drop-shadow(0px 1px 2px rgba(0, 0, 0, 0.3));\n",
              "      fill: #FFFFFF;\n",
              "    }\n",
              "  </style>\n",
              "\n",
              "      <script>\n",
              "        const buttonEl =\n",
              "          document.querySelector('#df-861c24a1-42cb-4a44-94c1-627732fdcee4 button.colab-df-convert');\n",
              "        buttonEl.style.display =\n",
              "          google.colab.kernel.accessAllowed ? 'block' : 'none';\n",
              "\n",
              "        async function convertToInteractive(key) {\n",
              "          const element = document.querySelector('#df-861c24a1-42cb-4a44-94c1-627732fdcee4');\n",
              "          const dataTable =\n",
              "            await google.colab.kernel.invokeFunction('convertToInteractive',\n",
              "                                                     [key], {});\n",
              "          if (!dataTable) return;\n",
              "\n",
              "          const docLinkHtml = 'Like what you see? Visit the ' +\n",
              "            '<a target=\"_blank\" href=https://colab.research.google.com/notebooks/data_table.ipynb>data table notebook</a>'\n",
              "            + ' to learn more about interactive tables.';\n",
              "          element.innerHTML = '';\n",
              "          dataTable['output_type'] = 'display_data';\n",
              "          await google.colab.output.renderOutput(dataTable, element);\n",
              "          const docLink = document.createElement('div');\n",
              "          docLink.innerHTML = docLinkHtml;\n",
              "          element.appendChild(docLink);\n",
              "        }\n",
              "      </script>\n",
              "    </div>\n",
              "  </div>\n",
              "  "
            ]
          },
          "metadata": {},
          "execution_count": 10
        },
        {
          "output_type": "stream",
          "name": "stdout",
          "text": [
            "Warning: Total number of columns (30) exceeds max_columns (20) limiting to first (20) columns.\n"
          ]
        }
      ]
    },
    {
      "cell_type": "code",
      "source": [
        "set(data.columns.get_level_values(0))"
      ],
      "metadata": {
        "colab": {
          "base_uri": "https://localhost:8080/"
        },
        "id": "erEvHY1dJAcP",
        "outputId": "575641a5-4a87-48ba-f475-ed70a8c479b3"
      },
      "execution_count": null,
      "outputs": [
        {
          "output_type": "execute_result",
          "data": {
            "text/plain": [
              "{'Adj Close', 'Close', 'High', 'Low', 'Open', 'Volume'}"
            ]
          },
          "metadata": {},
          "execution_count": 11
        }
      ]
    },
    {
      "cell_type": "code",
      "source": [
        "# Get specific columns\n",
        "print('Volume data:')\n",
        "data['Volume'].head()"
      ],
      "metadata": {
        "colab": {
          "base_uri": "https://localhost:8080/",
          "height": 232
        },
        "id": "pKCPa7nHJFS2",
        "outputId": "3aa4f7cb-1288-4d22-ee83-9f00e14bba83"
      },
      "execution_count": null,
      "outputs": [
        {
          "output_type": "stream",
          "name": "stdout",
          "text": [
            "Volume data:\n"
          ]
        },
        {
          "output_type": "execute_result",
          "data": {
            "text/plain": [
              "             0005.HK  0006.HK  0066.HK   0700.HK   2800.HK\n",
              "Date                                                      \n",
              "2015-01-02   8614012   998065  1231870  10862542  21618598\n",
              "2015-01-05  21629040  1925637  2120890  21808993  71563266\n",
              "2015-01-06  35110417  3477505  3531739  43678255  78830872\n",
              "2015-01-07  35378291  2477304  3066795  40863410  63966468\n",
              "2015-01-08  21320949  3044459  7878824  35638986  39175442"
            ],
            "text/html": [
              "\n",
              "  <div id=\"df-6d4ce40d-3537-44da-b8b6-a0d2414c8afc\">\n",
              "    <div class=\"colab-df-container\">\n",
              "      <div>\n",
              "<style scoped>\n",
              "    .dataframe tbody tr th:only-of-type {\n",
              "        vertical-align: middle;\n",
              "    }\n",
              "\n",
              "    .dataframe tbody tr th {\n",
              "        vertical-align: top;\n",
              "    }\n",
              "\n",
              "    .dataframe thead th {\n",
              "        text-align: right;\n",
              "    }\n",
              "</style>\n",
              "<table border=\"1\" class=\"dataframe\">\n",
              "  <thead>\n",
              "    <tr style=\"text-align: right;\">\n",
              "      <th></th>\n",
              "      <th>0005.HK</th>\n",
              "      <th>0006.HK</th>\n",
              "      <th>0066.HK</th>\n",
              "      <th>0700.HK</th>\n",
              "      <th>2800.HK</th>\n",
              "    </tr>\n",
              "    <tr>\n",
              "      <th>Date</th>\n",
              "      <th></th>\n",
              "      <th></th>\n",
              "      <th></th>\n",
              "      <th></th>\n",
              "      <th></th>\n",
              "    </tr>\n",
              "  </thead>\n",
              "  <tbody>\n",
              "    <tr>\n",
              "      <th>2015-01-02</th>\n",
              "      <td>8614012</td>\n",
              "      <td>998065</td>\n",
              "      <td>1231870</td>\n",
              "      <td>10862542</td>\n",
              "      <td>21618598</td>\n",
              "    </tr>\n",
              "    <tr>\n",
              "      <th>2015-01-05</th>\n",
              "      <td>21629040</td>\n",
              "      <td>1925637</td>\n",
              "      <td>2120890</td>\n",
              "      <td>21808993</td>\n",
              "      <td>71563266</td>\n",
              "    </tr>\n",
              "    <tr>\n",
              "      <th>2015-01-06</th>\n",
              "      <td>35110417</td>\n",
              "      <td>3477505</td>\n",
              "      <td>3531739</td>\n",
              "      <td>43678255</td>\n",
              "      <td>78830872</td>\n",
              "    </tr>\n",
              "    <tr>\n",
              "      <th>2015-01-07</th>\n",
              "      <td>35378291</td>\n",
              "      <td>2477304</td>\n",
              "      <td>3066795</td>\n",
              "      <td>40863410</td>\n",
              "      <td>63966468</td>\n",
              "    </tr>\n",
              "    <tr>\n",
              "      <th>2015-01-08</th>\n",
              "      <td>21320949</td>\n",
              "      <td>3044459</td>\n",
              "      <td>7878824</td>\n",
              "      <td>35638986</td>\n",
              "      <td>39175442</td>\n",
              "    </tr>\n",
              "  </tbody>\n",
              "</table>\n",
              "</div>\n",
              "      <button class=\"colab-df-convert\" onclick=\"convertToInteractive('df-6d4ce40d-3537-44da-b8b6-a0d2414c8afc')\"\n",
              "              title=\"Convert this dataframe to an interactive table.\"\n",
              "              style=\"display:none;\">\n",
              "        \n",
              "  <svg xmlns=\"http://www.w3.org/2000/svg\" height=\"24px\"viewBox=\"0 0 24 24\"\n",
              "       width=\"24px\">\n",
              "    <path d=\"M0 0h24v24H0V0z\" fill=\"none\"/>\n",
              "    <path d=\"M18.56 5.44l.94 2.06.94-2.06 2.06-.94-2.06-.94-.94-2.06-.94 2.06-2.06.94zm-11 1L8.5 8.5l.94-2.06 2.06-.94-2.06-.94L8.5 2.5l-.94 2.06-2.06.94zm10 10l.94 2.06.94-2.06 2.06-.94-2.06-.94-.94-2.06-.94 2.06-2.06.94z\"/><path d=\"M17.41 7.96l-1.37-1.37c-.4-.4-.92-.59-1.43-.59-.52 0-1.04.2-1.43.59L10.3 9.45l-7.72 7.72c-.78.78-.78 2.05 0 2.83L4 21.41c.39.39.9.59 1.41.59.51 0 1.02-.2 1.41-.59l7.78-7.78 2.81-2.81c.8-.78.8-2.07 0-2.86zM5.41 20L4 18.59l7.72-7.72 1.47 1.35L5.41 20z\"/>\n",
              "  </svg>\n",
              "      </button>\n",
              "      \n",
              "  <style>\n",
              "    .colab-df-container {\n",
              "      display:flex;\n",
              "      flex-wrap:wrap;\n",
              "      gap: 12px;\n",
              "    }\n",
              "\n",
              "    .colab-df-convert {\n",
              "      background-color: #E8F0FE;\n",
              "      border: none;\n",
              "      border-radius: 50%;\n",
              "      cursor: pointer;\n",
              "      display: none;\n",
              "      fill: #1967D2;\n",
              "      height: 32px;\n",
              "      padding: 0 0 0 0;\n",
              "      width: 32px;\n",
              "    }\n",
              "\n",
              "    .colab-df-convert:hover {\n",
              "      background-color: #E2EBFA;\n",
              "      box-shadow: 0px 1px 2px rgba(60, 64, 67, 0.3), 0px 1px 3px 1px rgba(60, 64, 67, 0.15);\n",
              "      fill: #174EA6;\n",
              "    }\n",
              "\n",
              "    [theme=dark] .colab-df-convert {\n",
              "      background-color: #3B4455;\n",
              "      fill: #D2E3FC;\n",
              "    }\n",
              "\n",
              "    [theme=dark] .colab-df-convert:hover {\n",
              "      background-color: #434B5C;\n",
              "      box-shadow: 0px 1px 3px 1px rgba(0, 0, 0, 0.15);\n",
              "      filter: drop-shadow(0px 1px 2px rgba(0, 0, 0, 0.3));\n",
              "      fill: #FFFFFF;\n",
              "    }\n",
              "  </style>\n",
              "\n",
              "      <script>\n",
              "        const buttonEl =\n",
              "          document.querySelector('#df-6d4ce40d-3537-44da-b8b6-a0d2414c8afc button.colab-df-convert');\n",
              "        buttonEl.style.display =\n",
              "          google.colab.kernel.accessAllowed ? 'block' : 'none';\n",
              "\n",
              "        async function convertToInteractive(key) {\n",
              "          const element = document.querySelector('#df-6d4ce40d-3537-44da-b8b6-a0d2414c8afc');\n",
              "          const dataTable =\n",
              "            await google.colab.kernel.invokeFunction('convertToInteractive',\n",
              "                                                     [key], {});\n",
              "          if (!dataTable) return;\n",
              "\n",
              "          const docLinkHtml = 'Like what you see? Visit the ' +\n",
              "            '<a target=\"_blank\" href=https://colab.research.google.com/notebooks/data_table.ipynb>data table notebook</a>'\n",
              "            + ' to learn more about interactive tables.';\n",
              "          element.innerHTML = '';\n",
              "          dataTable['output_type'] = 'display_data';\n",
              "          await google.colab.output.renderOutput(dataTable, element);\n",
              "          const docLink = document.createElement('div');\n",
              "          docLink.innerHTML = docLinkHtml;\n",
              "          element.appendChild(docLink);\n",
              "        }\n",
              "      </script>\n",
              "    </div>\n",
              "  </div>\n",
              "  "
            ]
          },
          "metadata": {},
          "execution_count": 12
        }
      ]
    },
    {
      "cell_type": "markdown",
      "source": [
        "## c) **SciPy** in Python is an open-source library used for solving mathematical, scientific, engineering, and technical problems. It allows users to manipulate the data and visualize the data using a wide range of high-level Python commands."
      ],
      "metadata": {
        "id": "DqGP5dpbJcza"
      }
    },
    {
      "cell_type": "code",
      "source": [
        "import numpy as np  \n",
        "from scipy import interpolate  \n",
        "import matplotlib.pyplot as plt  "
      ],
      "metadata": {
        "id": "oESAeHgkJIP3"
      },
      "execution_count": null,
      "outputs": []
    },
    {
      "cell_type": "code",
      "source": [
        "x = np.linspace(0, 5, 10)  \n",
        "y = np.cos(x**2/3+4) \n",
        "plt.scatter(x,y,c='r')  \n",
        "plt.show() "
      ],
      "metadata": {
        "colab": {
          "base_uri": "https://localhost:8080/",
          "height": 265
        },
        "id": "5gT_FQ5cJ7y1",
        "outputId": "baea66bd-0799-486c-9cb4-b259dc1827ca"
      },
      "execution_count": null,
      "outputs": [
        {
          "output_type": "display_data",
          "data": {
            "text/plain": [
              "<Figure size 432x288 with 1 Axes>"
            ],
            "image/png": "[encoded data removed]"
          },
          "metadata": {
            "needs_background": "light"
          }
        }
      ]
    },
    {
      "cell_type": "code",
      "source": [
        ""
      ],
      "metadata": {
        "id": "5BlDOWW1KC_L"
      },
      "execution_count": null,
      "outputs": []
    }
  ]
}