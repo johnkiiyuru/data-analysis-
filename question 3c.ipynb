{
 "cells": [
  {
   "cell_type": "code",
   "execution_count": null,
   "metadata": {},
   "outputs": [],
   "source": [
    "In [1]:\n",
    "%matplotlib inline\n",
    "In [9]:\n",
    "import numpy as np\n",
    "import matplotlib.pyplot as plt\n",
    "\n",
    "def SimulateBinom(S, r, v, T, h):\n",
    "    np.random.seed() #12345 #5555\n",
    "    n = int(T / h) \n",
    "    prob = np.random.uniform(0, 1, n)\n",
    "    spot = np.zeros((n,))\n",
    "    u = np.exp((r * h) + v * np.sqrt(h))\n",
    "    d = np.exp((r * h) - v * np.sqrt(h))\n",
    "    spot[0] = S\n",
    "\n",
    "    for t in range(1, n):\n",
    "        if prob[t] >= 0.5:\n",
    "            spot[t] = spot[t-1] + 1\n",
    "        else:\n",
    "            spot[t] = spot[t-1] - 1\n",
    "\n",
    "    return spot\n",
    "\n",
    "## Main\n",
    "## See Figure 11.5 in McDonald text on page 332\n",
    "S = 0\n",
    "r = 0.06\n",
    "v = 0.3\n",
    "T = 1.0\n",
    "h = T / 252.0 \n",
    "\n",
    "spot = SimulateBinom(S, r, v, T, h) \n",
    "t = range(int(T / h))\n",
    "\n",
    "plt.plot(spot, 'b', linewidth=2.5)\n",
    "plt.title(\"Simulated Random Walk\")\n",
    "plt.xlabel(\"Time Steps\")\n",
    "plt.ylabel(\"Stock Price ($)\")\n",
    "plt.xlim((0,252))\n",
    "plt.grid(True)\n",
    "plt.show()"
   ]
  }
 ],
 "metadata": {
  "language_info": {
   "name": "python"
  },
  "orig_nbformat": 4
 },
 "nbformat": 4,
 "nbformat_minor": 2
}
